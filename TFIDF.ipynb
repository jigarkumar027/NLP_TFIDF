{
 "cells": [
  {
   "cell_type": "code",
   "execution_count": 1,
   "metadata": {},
   "outputs": [],
   "source": [
    "import nltk"
   ]
  },
  {
   "cell_type": "code",
   "execution_count": 2,
   "metadata": {},
   "outputs": [],
   "source": [
    "paragraph = \"\"\"I have a dream that one day down in Alabama, with its vicious racists, \n",
    "with its governor having his lips dripping with the words of interposition and nullification – \n",
    "one day right there in Alabama little black boys and black girls will be able to join hands\n",
    "with little white boys and white girls as sisters and brothers.I have a dream today.\n",
    "I have a dream that one day every valley shall be exalted and every hill and mountain \n",
    "shall be made low, the rough places will be made plain, and the crooked places will \n",
    "be made straight, and the glory of the Lord shall be revealed and all flesh shall see it together.\"\"\""
   ]
  },
  {
   "cell_type": "code",
   "execution_count": 3,
   "metadata": {},
   "outputs": [],
   "source": [
    "import re\n",
    "from nltk.corpus import stopwords\n",
    "from nltk.stem.porter irt PorterStemmer\n",
    "from nltk.stem import WordNetLemmatizermpo"
   ]
  },
  {
   "cell_type": "code",
   "execution_count": 4,
   "metadata": {},
   "outputs": [],
   "source": [
    "ps = PorterStemmer()\n",
    "wordnet=WordNetLemmatizer()\n",
    "sentences = nltk.sent_tokenize(paragraph)\n",
    "corpus = []"
   ]
  },
  {
   "cell_type": "code",
   "execution_count": 5,
   "metadata": {},
   "outputs": [],
   "source": [
    "for i in range(len(sentences)):\n",
    "    review = re.sub('[^a-zA-Z]', ' ', sentences[i])\n",
    "    review = review.lower()\n",
    "    review = review.split()\n",
    "    review = [wordnet.lemmatize(word) for word in review if not word in set(stopwords.words('english'))]\n",
    "    review = ' '.join(review)\n",
    "    corpus.append(review)"
   ]
  },
  {
   "cell_type": "code",
   "execution_count": 6,
   "metadata": {},
   "outputs": [],
   "source": [
    "# Creating the TF-IDF model\n",
    "from sklearn.feature_extraction.text import TfidfVectorizer\n",
    "cv = TfidfVectorizer()\n",
    "X = cv.fit_transform(corpus).toarray()"
   ]
  },
  {
   "cell_type": "code",
   "execution_count": 7,
   "metadata": {},
   "outputs": [
    {
     "data": {
      "text/plain": [
       "array([[0.14894725, 0.29789449, 0.29789449, 0.29789449, 0.14894725,\n",
       "        0.        , 0.21195439, 0.21195439, 0.14894725, 0.        ,\n",
       "        0.        , 0.        , 0.29789449, 0.        , 0.14894725,\n",
       "        0.14894725, 0.        , 0.14894725, 0.14894725, 0.14894725,\n",
       "        0.29789449, 0.        , 0.        , 0.        , 0.        ,\n",
       "        0.14894725, 0.21195439, 0.        , 0.        , 0.14894725,\n",
       "        0.        , 0.14894725, 0.        , 0.        , 0.        ,\n",
       "        0.14894725, 0.        , 0.14894725, 0.        , 0.        ,\n",
       "        0.14894725, 0.29789449, 0.14894725],\n",
       "       [0.        , 0.        , 0.        , 0.        , 0.        ,\n",
       "        0.14210693, 0.10111025, 0.10111025, 0.        , 0.28421385,\n",
       "        0.14210693, 0.14210693, 0.        , 0.14210693, 0.        ,\n",
       "        0.        , 0.14210693, 0.        , 0.        , 0.        ,\n",
       "        0.        , 0.14210693, 0.14210693, 0.42632078, 0.14210693,\n",
       "        0.        , 0.10111025, 0.28421385, 0.14210693, 0.        ,\n",
       "        0.14210693, 0.        , 0.14210693, 0.14210693, 0.5684277 ,\n",
       "        0.        , 0.14210693, 0.        , 0.14210693, 0.14210693,\n",
       "        0.        , 0.        , 0.        ]])"
      ]
     },
     "execution_count": 7,
     "metadata": {},
     "output_type": "execute_result"
    }
   ],
   "source": [
    "X"
   ]
  },
  {
   "cell_type": "code",
   "execution_count": null,
   "metadata": {},
   "outputs": [],
   "source": []
  }
 ],
 "metadata": {
  "kernelspec": {
   "display_name": "Python 3",
   "language": "python",
   "name": "python3"
  },
  "language_info": {
   "codemirror_mode": {
    "name": "ipython",
    "version": 3
   },
   "file_extension": ".py",
   "mimetype": "text/x-python",
   "name": "python",
   "nbconvert_exporter": "python",
   "pygments_lexer": "ipython3",
   "version": "3.8.5"
  }
 },
 "nbformat": 4,
 "nbformat_minor": 4
}
